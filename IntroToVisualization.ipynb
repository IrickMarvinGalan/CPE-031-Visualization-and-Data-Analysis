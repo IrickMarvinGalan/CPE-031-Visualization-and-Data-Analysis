{
  "nbformat": 4,
  "nbformat_minor": 0,
  "metadata": {
    "colab": {
      "provenance": [],
      "authorship_tag": "ABX9TyNU5BCW0JtCcGr3q3yHH8YO",
      "include_colab_link": true
    },
    "kernelspec": {
      "name": "python3",
      "display_name": "Python 3"
    },
    "language_info": {
      "name": "python"
    }
  },
  "cells": [
    {
      "cell_type": "markdown",
      "metadata": {
        "id": "view-in-github",
        "colab_type": "text"
      },
      "source": [
        "<a href=\"https://colab.research.google.com/github/IrickMarvinGalan/CPE-031-Visualization-and-Data-Analysis/blob/main/IntroToVisualization.ipynb\" target=\"_parent\"><img src=\"https://colab.research.google.com/assets/colab-badge.svg\" alt=\"Open In Colab\"/></a>"
      ]
    },
    {
      "cell_type": "code",
      "execution_count": null,
      "metadata": {
        "colab": {
          "base_uri": "https://localhost:8080/"
        },
        "id": "Dr8B31NC8jtY",
        "outputId": "a5fff726-54fb-4a59-c2db-821394ad497f"
      },
      "outputs": [
        {
          "output_type": "stream",
          "name": "stdout",
          "text": [
            "  animals  height\n",
            "0     Cat      13\n",
            "1     Dog      17\n",
            "2  Rabbit       8\n"
          ]
        }
      ],
      "source": [
        "#Example 1\n",
        "import pandas as pd\n",
        "\n",
        "mydataset = {\n",
        "    'animals' : ['Cat', 'Dog', 'Rabbit'],\n",
        "    'height' : [13, 17, 8]\n",
        "}\n",
        "myvar = pd.DataFrame(mydataset)\n",
        "print(myvar)"
      ]
    },
    {
      "cell_type": "code",
      "source": [
        "import pandas as pd\n",
        "\n",
        "a = [1, 7, 2] #{\"Password\": 123, \"Username\":\"ABC\"}\n",
        "\n",
        "myvar = pd.Series(a)\n",
        "\n",
        "print(myvar, '\\n')\n",
        "print(myvar[0])\n",
        "\n",
        "myvar = pd.Series(a, index = ['x', 'y', 'z'])\n",
        "print(myvar)\n",
        "print(myvar[\"y\"])"
      ],
      "metadata": {
        "colab": {
          "base_uri": "https://localhost:8080/"
        },
        "id": "SsYDWxaL-QiA",
        "outputId": "afb1bef2-0f26-42df-c705-ed1e41b62338"
      },
      "execution_count": null,
      "outputs": [
        {
          "output_type": "stream",
          "name": "stdout",
          "text": [
            "0    1\n",
            "1    7\n",
            "2    2\n",
            "dtype: int64 \n",
            "\n",
            "1\n",
            "x    1\n",
            "y    7\n",
            "z    2\n",
            "dtype: int64\n",
            "7\n"
          ]
        }
      ]
    },
    {
      "cell_type": "code",
      "source": [
        "import pandas as pd\n",
        "\n",
        "calories = {\"day1\": 420, \"day2\": 380, \"day3\": 390}\n",
        "myvar = pd.Series(calories)\n",
        "print(myvar)"
      ],
      "metadata": {
        "colab": {
          "base_uri": "https://localhost:8080/"
        },
        "id": "MQEwQyIj_rWJ",
        "outputId": "d5cc39b6-2f07-40f1-a3c5-617503c607c6"
      },
      "execution_count": null,
      "outputs": [
        {
          "output_type": "stream",
          "name": "stdout",
          "text": [
            "day1    420\n",
            "day2    380\n",
            "day3    390\n",
            "dtype: int64\n"
          ]
        }
      ]
    },
    {
      "cell_type": "code",
      "source": [
        "import pandas as pd\n",
        "\n",
        "data = {\n",
        "    'age' : [42, 38, 39],\n",
        "    'weight' : [50, 40, 45]\n",
        "}\n",
        "myvar = pd.DataFrame(data)\n",
        "print(myvar)\n",
        "print(myvar.loc[0])\n",
        "print(myvar.loc[[0, 1]])"
      ],
      "metadata": {
        "colab": {
          "base_uri": "https://localhost:8080/"
        },
        "id": "avqcKYgrAPHg",
        "outputId": "d35eadef-3483-4921-c5bc-4bfa65dd86ae"
      },
      "execution_count": null,
      "outputs": [
        {
          "output_type": "stream",
          "name": "stdout",
          "text": [
            "   age  weight\n",
            "0   42      50\n",
            "1   38      40\n",
            "2   39      45\n",
            "age       42\n",
            "weight    50\n",
            "Name: 0, dtype: int64\n",
            "   age  weight\n",
            "0   42      50\n",
            "1   38      40\n"
          ]
        }
      ]
    },
    {
      "cell_type": "code",
      "source": [
        "import pandas as pd\n",
        "import\n",
        "\n",
        "data = {\n",
        "    \"calories\" : [420, 380, 390],\n",
        "    \"duration\": [50, 40, 45]\n",
        "  }\n",
        "myvar = pd.DataFrame(data, index = [\"day1\", \"day2\", \"day3\"])\n",
        "print(myvar)\n",
        "print(myvar.loc[\"day2\"])"
      ],
      "metadata": {
        "colab": {
          "base_uri": "https://localhost:8080/"
        },
        "id": "oZ3elRMsB0u4",
        "outputId": "434d2053-a7bc-43e3-8a5e-9f56ebfa5264"
      },
      "execution_count": null,
      "outputs": [
        {
          "output_type": "stream",
          "name": "stdout",
          "text": [
            "      calories  duration\n",
            "day1       420        50\n",
            "day2       380        40\n",
            "day3       390        45\n",
            "calories    380\n",
            "duration     40\n",
            "Name: day2, dtype: int64\n"
          ]
        }
      ]
    },
    {
      "cell_type": "code",
      "source": [
        "# from google.colab import drive\n",
        "# drive.mount('/content/drive')\n",
        "\n",
        "# Load the CSV file from Google Drive\n",
        "df = pd.read_csv('/content/drive/MyDrive/CPE_031_Galan/RoadAccidents.csv')\n",
        "\n",
        "# Display the first few rows\n",
        "print(df)"
      ],
      "metadata": {
        "colab": {
          "base_uri": "https://localhost:8080/"
        },
        "id": "HIrsSatnGKM4",
        "outputId": "71fefe34-64fb-4261-e3e8-2f01b26de4c8"
      },
      "execution_count": null,
      "outputs": [
        {
          "output_type": "stream",
          "name": "stdout",
          "text": [
            "     Million Plus Cities   Cause category        Cause Subcategory  \\\n",
            "0                   Agra  Traffic Control  Flashing Signal/Blinker   \n",
            "1                   Agra  Traffic Control  Flashing Signal/Blinker   \n",
            "2                   Agra  Traffic Control  Flashing Signal/Blinker   \n",
            "3                   Agra  Traffic Control  Flashing Signal/Blinker   \n",
            "4                   Agra  Traffic Control  Flashing Signal/Blinker   \n",
            "...                  ...              ...                      ...   \n",
            "9545               Vizaq          Weather              Sunny/Clear   \n",
            "9546               Vizaq          Weather              Sunny/Clear   \n",
            "9547               Vizaq          Weather              Sunny/Clear   \n",
            "9548               Vizaq          Weather              Sunny/Clear   \n",
            "9549               Vizaq          Weather              Sunny/Clear   \n",
            "\n",
            "            Outcome of Incident   Count  \n",
            "0            Greviously Injured     0.0  \n",
            "1                  Minor Injury     0.0  \n",
            "2                Persons Killed     0.0  \n",
            "3                 Total Injured     0.0  \n",
            "4     Total number of Accidents     0.0  \n",
            "...                         ...     ...  \n",
            "9545         Greviously Injured   561.0  \n",
            "9546               Minor Injury   252.0  \n",
            "9547             Persons Killed   176.0  \n",
            "9548  Total number of Accidents  1207.0  \n",
            "9549              Total Injured   813.0  \n",
            "\n",
            "[9550 rows x 5 columns]\n"
          ]
        }
      ]
    }
  ]
}